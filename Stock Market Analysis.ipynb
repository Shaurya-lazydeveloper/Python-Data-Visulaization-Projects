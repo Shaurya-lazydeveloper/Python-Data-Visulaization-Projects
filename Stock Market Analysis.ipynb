{
 "cells": [
  {
   "cell_type": "code",
   "execution_count": 3,
   "metadata": {},
   "outputs": [],
   "source": [
    "import pandas as pd\n",
    "amd = pd.read_csv(r\"C:\\Users\\Shaurya Tiwari\\OneDrive\\Desktop\\python\\Projects on Data Analysis\\Data Set CSV\\AMD.csv\", header=0, index_col='Date', parse_dates=True)"
   ]
  },
  {
   "cell_type": "code",
   "execution_count": 5,
   "metadata": {},
   "outputs": [
    {
     "data": {
      "text/html": [
       "<div>\n",
       "<style scoped>\n",
       "    .dataframe tbody tr th:only-of-type {\n",
       "        vertical-align: middle;\n",
       "    }\n",
       "\n",
       "    .dataframe tbody tr th {\n",
       "        vertical-align: top;\n",
       "    }\n",
       "\n",
       "    .dataframe thead th {\n",
       "        text-align: right;\n",
       "    }\n",
       "</style>\n",
       "<table border=\"1\" class=\"dataframe\">\n",
       "  <thead>\n",
       "    <tr style=\"text-align: right;\">\n",
       "      <th></th>\n",
       "      <th>Open</th>\n",
       "      <th>High</th>\n",
       "      <th>Low</th>\n",
       "      <th>Close</th>\n",
       "      <th>Adj Close</th>\n",
       "      <th>Volume</th>\n",
       "    </tr>\n",
       "    <tr>\n",
       "      <th>Date</th>\n",
       "      <th></th>\n",
       "      <th></th>\n",
       "      <th></th>\n",
       "      <th></th>\n",
       "      <th></th>\n",
       "      <th></th>\n",
       "    </tr>\n",
       "  </thead>\n",
       "  <tbody>\n",
       "    <tr>\n",
       "      <th>2003-12-31</th>\n",
       "      <td>15.20</td>\n",
       "      <td>15.20</td>\n",
       "      <td>14.81</td>\n",
       "      <td>14.90</td>\n",
       "      <td>14.90</td>\n",
       "      <td>7395900</td>\n",
       "    </tr>\n",
       "    <tr>\n",
       "      <th>2004-01-02</th>\n",
       "      <td>15.10</td>\n",
       "      <td>15.11</td>\n",
       "      <td>14.77</td>\n",
       "      <td>14.86</td>\n",
       "      <td>14.86</td>\n",
       "      <td>8220700</td>\n",
       "    </tr>\n",
       "    <tr>\n",
       "      <th>2004-01-05</th>\n",
       "      <td>15.05</td>\n",
       "      <td>15.27</td>\n",
       "      <td>15.01</td>\n",
       "      <td>15.20</td>\n",
       "      <td>15.20</td>\n",
       "      <td>9156000</td>\n",
       "    </tr>\n",
       "  </tbody>\n",
       "</table>\n",
       "</div>"
      ],
      "text/plain": [
       "             Open   High    Low  Close  Adj Close   Volume\n",
       "Date                                                      \n",
       "2003-12-31  15.20  15.20  14.81  14.90      14.90  7395900\n",
       "2004-01-02  15.10  15.11  14.77  14.86      14.86  8220700\n",
       "2004-01-05  15.05  15.27  15.01  15.20      15.20  9156000"
      ]
     },
     "execution_count": 5,
     "metadata": {},
     "output_type": "execute_result"
    }
   ],
   "source": [
    "amd.head(3)"
   ]
  },
  {
   "cell_type": "code",
   "execution_count": 6,
   "metadata": {},
   "outputs": [
    {
     "data": {
      "text/plain": [
       "(3953, 6)"
      ]
     },
     "execution_count": 6,
     "metadata": {},
     "output_type": "execute_result"
    }
   ],
   "source": [
    "amd.shape"
   ]
  },
  {
   "cell_type": "code",
   "execution_count": 7,
   "metadata": {},
   "outputs": [
    {
     "data": {
      "text/html": [
       "<div>\n",
       "<style scoped>\n",
       "    .dataframe tbody tr th:only-of-type {\n",
       "        vertical-align: middle;\n",
       "    }\n",
       "\n",
       "    .dataframe tbody tr th {\n",
       "        vertical-align: top;\n",
       "    }\n",
       "\n",
       "    .dataframe thead th {\n",
       "        text-align: right;\n",
       "    }\n",
       "</style>\n",
       "<table border=\"1\" class=\"dataframe\">\n",
       "  <thead>\n",
       "    <tr style=\"text-align: right;\">\n",
       "      <th></th>\n",
       "      <th>Open</th>\n",
       "      <th>High</th>\n",
       "      <th>Low</th>\n",
       "      <th>Close</th>\n",
       "      <th>Adj Close</th>\n",
       "      <th>Volume</th>\n",
       "    </tr>\n",
       "  </thead>\n",
       "  <tbody>\n",
       "    <tr>\n",
       "      <th>count</th>\n",
       "      <td>3953.000000</td>\n",
       "      <td>3953.000000</td>\n",
       "      <td>3953.000000</td>\n",
       "      <td>3953.000000</td>\n",
       "      <td>3953.000000</td>\n",
       "      <td>3.953000e+03</td>\n",
       "    </tr>\n",
       "    <tr>\n",
       "      <th>mean</th>\n",
       "      <td>10.870450</td>\n",
       "      <td>11.083322</td>\n",
       "      <td>10.640293</td>\n",
       "      <td>10.858219</td>\n",
       "      <td>10.858219</td>\n",
       "      <td>3.033934e+07</td>\n",
       "    </tr>\n",
       "    <tr>\n",
       "      <th>std</th>\n",
       "      <td>8.508267</td>\n",
       "      <td>8.665403</td>\n",
       "      <td>8.335102</td>\n",
       "      <td>8.499793</td>\n",
       "      <td>8.499793</td>\n",
       "      <td>2.991771e+07</td>\n",
       "    </tr>\n",
       "    <tr>\n",
       "      <th>min</th>\n",
       "      <td>1.620000</td>\n",
       "      <td>1.690000</td>\n",
       "      <td>1.610000</td>\n",
       "      <td>1.620000</td>\n",
       "      <td>1.620000</td>\n",
       "      <td>0.000000e+00</td>\n",
       "    </tr>\n",
       "    <tr>\n",
       "      <th>25%</th>\n",
       "      <td>4.010000</td>\n",
       "      <td>4.060000</td>\n",
       "      <td>3.910000</td>\n",
       "      <td>4.000000</td>\n",
       "      <td>4.000000</td>\n",
       "      <td>1.277820e+07</td>\n",
       "    </tr>\n",
       "    <tr>\n",
       "      <th>50%</th>\n",
       "      <td>7.880000</td>\n",
       "      <td>8.040000</td>\n",
       "      <td>7.710000</td>\n",
       "      <td>7.910000</td>\n",
       "      <td>7.910000</td>\n",
       "      <td>2.054760e+07</td>\n",
       "    </tr>\n",
       "    <tr>\n",
       "      <th>75%</th>\n",
       "      <td>15.050000</td>\n",
       "      <td>15.300000</td>\n",
       "      <td>14.740000</td>\n",
       "      <td>14.990000</td>\n",
       "      <td>14.990000</td>\n",
       "      <td>3.581690e+07</td>\n",
       "    </tr>\n",
       "    <tr>\n",
       "      <th>max</th>\n",
       "      <td>41.980000</td>\n",
       "      <td>42.700001</td>\n",
       "      <td>40.619999</td>\n",
       "      <td>42.099998</td>\n",
       "      <td>42.099998</td>\n",
       "      <td>3.250584e+08</td>\n",
       "    </tr>\n",
       "  </tbody>\n",
       "</table>\n",
       "</div>"
      ],
      "text/plain": [
       "              Open         High          Low        Close    Adj Close  \\\n",
       "count  3953.000000  3953.000000  3953.000000  3953.000000  3953.000000   \n",
       "mean     10.870450    11.083322    10.640293    10.858219    10.858219   \n",
       "std       8.508267     8.665403     8.335102     8.499793     8.499793   \n",
       "min       1.620000     1.690000     1.610000     1.620000     1.620000   \n",
       "25%       4.010000     4.060000     3.910000     4.000000     4.000000   \n",
       "50%       7.880000     8.040000     7.710000     7.910000     7.910000   \n",
       "75%      15.050000    15.300000    14.740000    14.990000    14.990000   \n",
       "max      41.980000    42.700001    40.619999    42.099998    42.099998   \n",
       "\n",
       "             Volume  \n",
       "count  3.953000e+03  \n",
       "mean   3.033934e+07  \n",
       "std    2.991771e+07  \n",
       "min    0.000000e+00  \n",
       "25%    1.277820e+07  \n",
       "50%    2.054760e+07  \n",
       "75%    3.581690e+07  \n",
       "max    3.250584e+08  "
      ]
     },
     "execution_count": 7,
     "metadata": {},
     "output_type": "execute_result"
    }
   ],
   "source": [
    "amd.describe()"
   ]
  },
  {
   "cell_type": "code",
   "execution_count": null,
   "metadata": {},
   "outputs": [],
   "source": []
  }
 ],
 "metadata": {
  "kernelspec": {
   "display_name": "Python 3",
   "language": "python",
   "name": "python3"
  },
  "language_info": {
   "codemirror_mode": {
    "name": "ipython",
    "version": 3
   },
   "file_extension": ".py",
   "mimetype": "text/x-python",
   "name": "python",
   "nbconvert_exporter": "python",
   "pygments_lexer": "ipython3",
   "version": "3.8.5"
  }
 },
 "nbformat": 4,
 "nbformat_minor": 4
}
